{
 "cells": [
  {
   "cell_type": "code",
   "execution_count": 1,
   "id": "3a92b7a7",
   "metadata": {},
   "outputs": [],
   "source": [
    "import json\n",
    "import requests\n",
    "from pprint import pprint\n",
    "import pandas as pd\n"
   ]
  },
  {
   "cell_type": "markdown",
   "id": "7c9bcb44",
   "metadata": {},
   "source": [
    "## Import raw data and convert to merged data "
   ]
  },
  {
   "cell_type": "code",
   "execution_count": 2,
   "id": "476ecadd",
   "metadata": {},
   "outputs": [
    {
     "name": "stderr",
     "output_type": "stream",
     "text": [
      "/var/folders/7t/0gtlmn8s5cv7hcm0bl20pb4h0000gn/T/ipykernel_14809/1494093554.py:3: DtypeWarning: Columns (5) have mixed types. Specify dtype option on import or set low_memory=False.\n",
      "  Crime_DF = pd.read_csv(filepath_crime, encoding=\"utf-8\")\n"
     ]
    }
   ],
   "source": [
    "filepath_crime = \"atlcrime.csv\"\n",
    "filepath_weather = \"weather_atl_2016.csv\"\n",
    "Crime_DF = pd.read_csv(filepath_crime, encoding=\"utf-8\")\n",
    "Weather_DF = pd.read_csv(filepath_weather, encoding=\"utf-8\")\n"
   ]
  },
  {
   "cell_type": "code",
   "execution_count": 3,
   "id": "9f7cb436",
   "metadata": {},
   "outputs": [],
   "source": [
    "Cleaned_Crime_DF = Crime_DF.drop(['Unnamed: 0','location', 'number', 'beat', 'npu'], axis =1)"
   ]
  },
  {
   "cell_type": "code",
   "execution_count": 4,
   "id": "391c7468",
   "metadata": {},
   "outputs": [],
   "source": [
    "Cleaned_Weather_DF = Weather_DF.drop(['feelslikemax','feelslikemin', 'feelslike', 'dew', 'humidity', 'precipprob',\n",
    "                                 'precipcover', 'preciptype', 'windgust', 'windspeed', 'winddir',\n",
    "                                 'sealevelpressure', 'cloudcover', 'visibility', 'solarradiation',\n",
    "                                 'solarenergy', 'uvindex', 'severerisk', 'sunrise', 'sunset',\n",
    "                                 'conditions', 'description', 'icon', 'stations'], axis =1)"
   ]
  },
  {
   "cell_type": "code",
   "execution_count": 5,
   "id": "5422e6b3",
   "metadata": {},
   "outputs": [],
   "source": [
    "Cleaned_Crime_DF['date'] = Cleaned_Crime_DF['date'].astype('datetime64[ns]')\n",
    "Cleaned_Weather_DF['datetime'] = Cleaned_Weather_DF['datetime'].astype('datetime64[ns]')\n",
    "Cleaned_Crime_DF = Cleaned_Crime_DF.rename(columns = {'date':'datetime'})\n"
   ]
  },
  {
   "cell_type": "code",
   "execution_count": 6,
   "id": "95c3e2ba",
   "metadata": {},
   "outputs": [],
   "source": [
    "Merged_DF = pd.merge(Cleaned_Weather_DF, Cleaned_Crime_DF, on = 'datetime')"
   ]
  },
  {
   "cell_type": "code",
   "execution_count": 7,
   "id": "5f835db4",
   "metadata": {},
   "outputs": [
    {
     "data": {
      "text/html": [
       "<div>\n",
       "<style scoped>\n",
       "    .dataframe tbody tr th:only-of-type {\n",
       "        vertical-align: middle;\n",
       "    }\n",
       "\n",
       "    .dataframe tbody tr th {\n",
       "        vertical-align: top;\n",
       "    }\n",
       "\n",
       "    .dataframe thead th {\n",
       "        text-align: right;\n",
       "    }\n",
       "</style>\n",
       "<table border=\"1\" class=\"dataframe\">\n",
       "  <thead>\n",
       "    <tr style=\"text-align: right;\">\n",
       "      <th></th>\n",
       "      <th>name</th>\n",
       "      <th>datetime</th>\n",
       "      <th>tempmax</th>\n",
       "      <th>tempmin</th>\n",
       "      <th>temp</th>\n",
       "      <th>precip</th>\n",
       "      <th>snow</th>\n",
       "      <th>snowdepth</th>\n",
       "      <th>moonphase</th>\n",
       "      <th>crime</th>\n",
       "      <th>neighborhood</th>\n",
       "      <th>lat</th>\n",
       "      <th>long</th>\n",
       "    </tr>\n",
       "  </thead>\n",
       "  <tbody>\n",
       "    <tr>\n",
       "      <th>0</th>\n",
       "      <td>atlanta</td>\n",
       "      <td>2016-01-01</td>\n",
       "      <td>45.9</td>\n",
       "      <td>39.6</td>\n",
       "      <td>42.8</td>\n",
       "      <td>0.0</td>\n",
       "      <td>0.0</td>\n",
       "      <td>0.0</td>\n",
       "      <td>0.72</td>\n",
       "      <td>AUTO THEFT</td>\n",
       "      <td>Sweet Auburn</td>\n",
       "      <td>33.75383</td>\n",
       "      <td>-84.37220</td>\n",
       "    </tr>\n",
       "    <tr>\n",
       "      <th>1</th>\n",
       "      <td>atlanta</td>\n",
       "      <td>2016-01-01</td>\n",
       "      <td>45.9</td>\n",
       "      <td>39.6</td>\n",
       "      <td>42.8</td>\n",
       "      <td>0.0</td>\n",
       "      <td>0.0</td>\n",
       "      <td>0.0</td>\n",
       "      <td>0.72</td>\n",
       "      <td>LARCENY-FROM VEHICLE</td>\n",
       "      <td>Downtown</td>\n",
       "      <td>33.77119</td>\n",
       "      <td>-84.38476</td>\n",
       "    </tr>\n",
       "    <tr>\n",
       "      <th>2</th>\n",
       "      <td>atlanta</td>\n",
       "      <td>2016-01-01</td>\n",
       "      <td>45.9</td>\n",
       "      <td>39.6</td>\n",
       "      <td>42.8</td>\n",
       "      <td>0.0</td>\n",
       "      <td>0.0</td>\n",
       "      <td>0.0</td>\n",
       "      <td>0.72</td>\n",
       "      <td>LARCENY-FROM VEHICLE</td>\n",
       "      <td>Midtown</td>\n",
       "      <td>33.77425</td>\n",
       "      <td>-84.38922</td>\n",
       "    </tr>\n",
       "    <tr>\n",
       "      <th>3</th>\n",
       "      <td>atlanta</td>\n",
       "      <td>2016-01-01</td>\n",
       "      <td>45.9</td>\n",
       "      <td>39.6</td>\n",
       "      <td>42.8</td>\n",
       "      <td>0.0</td>\n",
       "      <td>0.0</td>\n",
       "      <td>0.0</td>\n",
       "      <td>0.72</td>\n",
       "      <td>ROBBERY-PEDESTRIAN</td>\n",
       "      <td>Castleberry Hill</td>\n",
       "      <td>33.74520</td>\n",
       "      <td>-84.40406</td>\n",
       "    </tr>\n",
       "    <tr>\n",
       "      <th>4</th>\n",
       "      <td>atlanta</td>\n",
       "      <td>2016-01-01</td>\n",
       "      <td>45.9</td>\n",
       "      <td>39.6</td>\n",
       "      <td>42.8</td>\n",
       "      <td>0.0</td>\n",
       "      <td>0.0</td>\n",
       "      <td>0.0</td>\n",
       "      <td>0.72</td>\n",
       "      <td>AGG ASSAULT</td>\n",
       "      <td>Adamsville</td>\n",
       "      <td>33.75771</td>\n",
       "      <td>-84.50344</td>\n",
       "    </tr>\n",
       "  </tbody>\n",
       "</table>\n",
       "</div>"
      ],
      "text/plain": [
       "      name   datetime  tempmax  tempmin  temp  precip  snow  snowdepth  \\\n",
       "0  atlanta 2016-01-01     45.9     39.6  42.8     0.0   0.0        0.0   \n",
       "1  atlanta 2016-01-01     45.9     39.6  42.8     0.0   0.0        0.0   \n",
       "2  atlanta 2016-01-01     45.9     39.6  42.8     0.0   0.0        0.0   \n",
       "3  atlanta 2016-01-01     45.9     39.6  42.8     0.0   0.0        0.0   \n",
       "4  atlanta 2016-01-01     45.9     39.6  42.8     0.0   0.0        0.0   \n",
       "\n",
       "   moonphase                 crime      neighborhood       lat      long  \n",
       "0       0.72            AUTO THEFT      Sweet Auburn  33.75383 -84.37220  \n",
       "1       0.72  LARCENY-FROM VEHICLE          Downtown  33.77119 -84.38476  \n",
       "2       0.72  LARCENY-FROM VEHICLE           Midtown  33.77425 -84.38922  \n",
       "3       0.72    ROBBERY-PEDESTRIAN  Castleberry Hill  33.74520 -84.40406  \n",
       "4       0.72           AGG ASSAULT        Adamsville  33.75771 -84.50344  "
      ]
     },
     "execution_count": 7,
     "metadata": {},
     "output_type": "execute_result"
    }
   ],
   "source": [
    "Merged_DF.head()"
   ]
  },
  {
   "cell_type": "code",
   "execution_count": null,
   "id": "9534be3d",
   "metadata": {},
   "outputs": [],
   "source": []
  },
  {
   "cell_type": "markdown",
   "id": "7c787820",
   "metadata": {},
   "source": [
    "## Temperature vs. Crime DataFrame "
   ]
  },
  {
   "cell_type": "code",
   "execution_count": 8,
   "id": "d8feffec",
   "metadata": {},
   "outputs": [],
   "source": [
    "# Create bin in which to place values based upon temperature range\n",
    "# max = 87.4\n",
    "# min = 28.2\n",
    "\n",
    "bins = [20,30,40,50,60,70,80,90]\n",
    "labels = [\"20F - 30F\", \"31F - 40F\",\"41F - 50F\",\"51F - 60F\",\"61F - 70F\",\"71F - 80F\",\"81F - 90F\"]\n",
    "Merged_DF['Temp Range'] = pd.cut(Merged_DF['temp'], bins, labels=labels)"
   ]
  },
  {
   "cell_type": "code",
   "execution_count": 9,
   "id": "5025e629",
   "metadata": {},
   "outputs": [
    {
     "name": "stdout",
     "output_type": "stream",
     "text": [
      "[204, 1772, 3636, 4738, 5967, 7336, 5478]\n"
     ]
    }
   ],
   "source": [
    "Crime_Temp_Range = Merged_DF.groupby([\"Temp Range\"]).count()['crime']\n",
    "# Crime_Temp_Range = NewDF['crime'].count()\n",
    "# Crime_Temp_Range\n",
    "Temp_yaxis = []\n",
    "for count in Crime_Temp_Range:\n",
    "    Temp_yaxis.append(count)\n",
    "print(Temp_yaxis)"
   ]
  },
  {
   "cell_type": "markdown",
   "id": "8d51ed80",
   "metadata": {},
   "source": [
    "## Moon Phase vs. Crime DataFrame"
   ]
  },
  {
   "cell_type": "code",
   "execution_count": 10,
   "id": "11e124dd",
   "metadata": {},
   "outputs": [],
   "source": [
    "New_Moon = Merged_DF.loc[Merged_DF['moonphase'] == 0, :]\n",
    "Waxing_Crescent = Merged_DF.loc[(Merged_DF['moonphase'] < 0.25) & (Merged_DF['moonphase'] > 0) , :]\n",
    "First_Quarter = Merged_DF.loc[(Merged_DF['moonphase'] == 0.25) , :]\n",
    "Waxing_Gibbous= Merged_DF.loc[(Merged_DF['moonphase'] < 0.5) & (Merged_DF['moonphase'] > 0.25) , :]\n",
    "Full_Moon = Merged_DF.loc[Merged_DF['moonphase'] == 0.5, :]\n",
    "Waning_Gibbous= Merged_DF.loc[(Merged_DF['moonphase'] < 0.75) & (Merged_DF['moonphase'] > 0.5) , :]\n",
    "Third_Quarter = Merged_DF.loc[Merged_DF['moonphase'] == 0.75,:]\n",
    "Waning_Crescent = Merged_DF.loc[(Merged_DF['moonphase'] <= 1) & (Merged_DF['moonphase'] > 0.75) , :]\n"
   ]
  },
  {
   "cell_type": "code",
   "execution_count": 11,
   "id": "000938b1",
   "metadata": {},
   "outputs": [],
   "source": [
    "Moon_Phase_DF = pd.DataFrame({\n",
    "    'New Moon' : New_Moon.groupby('crime').count()['name'],\n",
    "    'Waxing Crescent' : Waxing_Crescent.groupby('crime').count()['name'],\n",
    "    'First Quarter' : First_Quarter.groupby('crime').count()['name'],\n",
    "    'Waxing Gibbous' : Waxing_Gibbous.groupby('crime').count()['name'],\n",
    "    'Full Moon' : Full_Moon.groupby('crime').count()['name'],\n",
    "    'Waning Gibbous' : Waning_Gibbous.groupby('crime').count()['name'],\n",
    "    'Third Quarter' : Third_Quarter.groupby('crime').count()['name'],\n",
    "    'Waning Crescent' : Waning_Crescent.groupby('crime').count()['name'],\n",
    "})"
   ]
  },
  {
   "cell_type": "code",
   "execution_count": 12,
   "id": "3cee3c0a",
   "metadata": {},
   "outputs": [],
   "source": [
    "# Convert NAN to 0???\n",
    "New_Moon_Phase_Cleaned = Moon_Phase_DF.fillna(0)\n",
    "New_Moon_Phase_Cleaned['First Quarter'] = New_Moon_Phase_Cleaned['First Quarter'].astype('int')\n",
    "New_Moon_Phase_Cleaned['Third Quarter'] = New_Moon_Phase_Cleaned['Third Quarter'].astype('int')\n"
   ]
  },
  {
   "cell_type": "code",
   "execution_count": 13,
   "id": "5712d40d",
   "metadata": {},
   "outputs": [
    {
     "data": {
      "text/plain": [
       "[12, 79, 1, 78, 21, 78, 2, 95]"
      ]
     },
     "execution_count": 13,
     "metadata": {},
     "output_type": "execute_result"
    }
   ],
   "source": [
    "### NUMBER OF DAYS IN EACH MOONPHASE\n",
    "New_Moon_days = len(New_Moon['datetime'].unique())\n",
    "Waxing_Crescent_days = len(Waxing_Crescent['datetime'].unique())\n",
    "First_Quarter_days = len(First_Quarter['datetime'].unique())\n",
    "Waxing_Gibbous_days = len(Waxing_Gibbous['datetime'].unique())\n",
    "Full_Moon_days = len(Full_Moon['datetime'].unique())\n",
    "Waning_Gibbous_days = len(Waning_Gibbous['datetime'].unique())\n",
    "Third_Quarter = len(Third_Quarter['datetime'].unique())\n",
    "Waning_Crescent_days = len(Waning_Crescent['datetime'].unique())\n",
    "\n",
    "phase_list = [New_Moon_days, Waxing_Crescent_days, First_Quarter_days, Waxing_Gibbous_days, Full_Moon_days,  \n",
    "             Waning_Gibbous_days, Third_Quarter, Waning_Crescent_days]\n",
    "\n",
    "# Phase_days = pd.DataFrame({\n",
    "#     'New_Moon_days' : New_Moon_days,\n",
    "#     'Waxing_Crescent_days' : Waxing_Crescent_days,\n",
    "#     'First_Quarter_days' : First_Quarter_days,\n",
    "#     'Waxing_Gibbous_days' : Waxing_Gibbous_days,\n",
    "#     'Full_Moon_days' : Full_Moon_days,\n",
    "#     'Waning_Gibbous_days' : Waning_Gibbous_days,\n",
    "#     'Third_Quarter' : Third_Quarter,\n",
    "#     'Waning_Crescent_days' : Waning_Crescent_days}, index = [0]\n",
    "#     )\n",
    "phase_list"
   ]
  },
  {
   "cell_type": "markdown",
   "id": "6f50f475",
   "metadata": {},
   "source": [
    "## Precipitation Vs. Crime DataFrame"
   ]
  },
  {
   "cell_type": "code",
   "execution_count": 14,
   "id": "014ef98f",
   "metadata": {},
   "outputs": [],
   "source": [
    "# Create bin in which to place values based upon precipitation range\n",
    "# max = 2.0\n",
    "# min = 0\n",
    "\n",
    "rain_bins = [-1, 0.2, 0.4, 0.6, 0.8, 1, 1.2, 1.4, 1.6, 1.8, 2]\n",
    "rain_labels = [\"0 ~ 0.19 in\",\"0.2 ~ 0.39 in\",\"0.4 ~ 0.59 in\",\"0.6 ~ 0.79 in\",\"0.8 ~ 0.99 in\",\"1 ~ 1.19 in\",\n",
    "              \"1.2 - 1.39 in\",\"1.4 ~ 1.59 in\",\"1.6 ~ 1.79 in\",\"1.8 ~ 2 in\"]\n",
    "Merged_DF['Precip_Range'] = pd.cut(Merged_DF['precip'], rain_bins, labels=rain_labels)\n"
   ]
  },
  {
   "cell_type": "code",
   "execution_count": 15,
   "id": "36ea2ee2",
   "metadata": {},
   "outputs": [
    {
     "name": "stdout",
     "output_type": "stream",
     "text": [
      "Precip_Range  crime              \n",
      "0 ~ 0.19 in   AGG ASSAULT            1932\n",
      "              AUTO THEFT             3417\n",
      "              BURGLARY-NONRES         862\n",
      "              BURGLARY-RESIDENCE     3014\n",
      "              HOMICIDE                 94\n",
      "                                     ... \n",
      "1.8 ~ 2 in    LARCENY-NON VEHICLE      66\n",
      "              RAPE                      2\n",
      "              ROBBERY-COMMERCIAL        0\n",
      "              ROBBERY-PEDESTRIAN       14\n",
      "              ROBBERY-RESIDENCE         2\n",
      "Name: crime, Length: 110, dtype: int64\n"
     ]
    }
   ],
   "source": [
    "\n",
    "RainDF = Merged_DF.groupby([\"Precip_Range\",\"crime\"])\n",
    "Crime_Rain_Range = RainDF['crime'].count()\n",
    "print(Crime_Rain_Range)\n"
   ]
  },
  {
   "cell_type": "markdown",
   "id": "4f0dae65",
   "metadata": {},
   "source": [
    "## Neighborhood vs. Crime DataFrame"
   ]
  },
  {
   "cell_type": "code",
   "execution_count": 16,
   "id": "2d05cbec",
   "metadata": {},
   "outputs": [
    {
     "name": "stdout",
     "output_type": "stream",
     "text": [
      "neighborhood     Temp Range\n",
      "Downtown         20F - 30F      11\n",
      "                 31F - 40F      95\n",
      "                 41F - 50F     257\n",
      "                 51F - 60F     283\n",
      "                 61F - 70F     395\n",
      "                 71F - 80F     463\n",
      "                 81F - 90F     342\n",
      "Midtown          20F - 30F      11\n",
      "                 31F - 40F      94\n",
      "                 41F - 50F     183\n",
      "                 51F - 60F     221\n",
      "                 61F - 70F     297\n",
      "                 71F - 80F     300\n",
      "                 81F - 90F     205\n",
      "Old Fourth Ward  20F - 30F       2\n",
      "                 31F - 40F      46\n",
      "                 41F - 50F      99\n",
      "                 51F - 60F     136\n",
      "                 61F - 70F     168\n",
      "                 71F - 80F     202\n",
      "                 81F - 90F     136\n",
      "Vine City        20F - 30F       5\n",
      "                 31F - 40F      32\n",
      "                 41F - 50F      81\n",
      "                 51F - 60F     102\n",
      "                 61F - 70F     120\n",
      "                 71F - 80F     143\n",
      "                 81F - 90F     119\n",
      "West End         20F - 30F       5\n",
      "                 31F - 40F      39\n",
      "                 41F - 50F      68\n",
      "                 51F - 60F     112\n",
      "                 61F - 70F     136\n",
      "                 71F - 80F     185\n",
      "                 81F - 90F     137\n",
      "Name: crime, dtype: int64\n"
     ]
    }
   ],
   "source": [
    "# Downtown                1846\n",
    "# Midtown                 1311\n",
    "# Old Fourth Ward          789\n",
    "# West End                 682\n",
    "# Vine City                602\n",
    "\n",
    "Neighbor_DF = Merged_DF.loc[Merged_DF['neighborhood'].isin(['Downtown','Midtown','Old Fourth Ward','West End','Vine City'])]\n",
    "Cleaned_Neighbor = Neighbor_DF.groupby(['neighborhood', 'Temp Range'])\n",
    "More_Cleaned_Neighbor = Cleaned_Neighbor['crime'].count()\n",
    "print(More_Cleaned_Neighbor)"
   ]
  },
  {
   "cell_type": "markdown",
   "id": "38d3885f",
   "metadata": {},
   "source": [
    "## Plotting Temp vs. Crime ( WHAT PLOT?) "
   ]
  },
  {
   "cell_type": "code",
   "execution_count": 17,
   "id": "7eee8769",
   "metadata": {},
   "outputs": [],
   "source": [
    "# %matplotlib notebook\n",
    "import matplotlib.pyplot as plt\n",
    "import numpy as np\n",
    "import scipy.stats as st\n",
    "from scipy import stats\n",
    "import sklearn.datasets as dta"
   ]
  },
  {
   "cell_type": "code",
   "execution_count": 18,
   "id": "91103bd3",
   "metadata": {},
   "outputs": [
    {
     "data": {
      "image/png": "[encoded data removed]",
      "text/plain": [
       "<Figure size 432x288 with 1 Axes>"
      ]
     },
     "metadata": {
      "needs_background": "light"
     },
     "output_type": "display_data"
    },
    {
     "data": {
      "text/plain": [
       "<Figure size 432x288 with 0 Axes>"
      ]
     },
     "metadata": {},
     "output_type": "display_data"
    }
   ],
   "source": [
    "#Crime_Temp_Range (Original DataFrame)\n",
    "\n",
    "# xAxis = np.arange(len(bins))\n",
    "# tickLocations = []\n",
    "# for x in xAxis:\n",
    "#     tickLocations.append(x)\n",
    "# plt.bar(xAxis, Temp_yaxis, facecolor='b', align ='center')\n",
    "# plt.xticks(tickLocations, bins)\n",
    "# plt.show()\n",
    "\n",
    "Temp_chart = Crime_Temp_Range.plot(kind = 'bar')\n",
    "Temp_chart.set_xlabel('Temperature Range (F)')\n",
    "Temp_chart.set_ylabel('Number of Violent Crime')\n",
    "Temp_chart.set_title('Temperature Range vs. Count of Violent Crime in Atlanta')\n",
    "\n",
    "plt.savefig(\"Temperature Range and Count of Crime.png\",\n",
    "            bbox_inches =\"tight\")\n",
    "plt.show()\n",
    "plt.tight_layout()"
   ]
  },
  {
   "cell_type": "code",
   "execution_count": 19,
   "id": "63d70fff",
   "metadata": {},
   "outputs": [
    {
     "data": {
      "image/png": "[encoded data removed]",
      "text/plain": [
       "<Figure size 432x288 with 1 Axes>"
      ]
     },
     "metadata": {
      "needs_background": "light"
     },
     "output_type": "display_data"
    },
    {
     "name": "stdout",
     "output_type": "stream",
     "text": [
      "R value is 0.09711317319148892.\n",
      "The correlation coefficient between precipitation and crime rate is 0.31\n"
     ]
    }
   ],
   "source": [
    "Temp_2 = Merged_DF.groupby(['temp']).count()['crime']\n",
    "\n",
    "\n",
    "xAxis_temperature = Merged_DF['temp'].unique()\n",
    "Output = sorted(xAxis_temperature, key = float)\n",
    "Output_array = np.array(Output, dtype=np.float64)\n",
    "\n",
    "plt.scatter(Output, Temp_2)\n",
    "\n",
    "(slope, intercept, rvalue, pvalue, stderr) = stats.linregress(Output, Temp_2)\n",
    "crime_temp_fit = (slope * Output_array) + intercept\n",
    "line_eq = \"y = \" + str(round(slope,2)) + \"x + \" + str(round(intercept,2))\n",
    "plt.plot(Output, crime_temp_fit, \"r-\")\n",
    "plt.annotate(line_eq,(30, 210),fontsize=15,color=\"red\")\n",
    "plt.xlabel('Temperature')\n",
    "plt.ylabel('Count of Crime')\n",
    "plt.title('Temperature vs. Count of Crime')\n",
    "plt.savefig(\"Temperature Range and Count of Crime (scatter plot).png\",\n",
    "            bbox_inches =\"tight\")\n",
    "plt.show()\n",
    "\n",
    "print(f\"R value is {rvalue**2}.\")\n",
    "print(f\"The correlation coefficient between precipitation and crime rate is {round(st.pearsonr(Output_array, Temp_2)[0],2)}\")\n"
   ]
  },
  {
   "cell_type": "markdown",
   "id": "097c4d31",
   "metadata": {},
   "source": [
    "## Plotting Moonphase vs. Crime "
   ]
  },
  {
   "cell_type": "code",
   "execution_count": 20,
   "id": "c2655290",
   "metadata": {},
   "outputs": [
    {
     "data": {
      "text/html": [
       "<div>\n",
       "<style scoped>\n",
       "    .dataframe tbody tr th:only-of-type {\n",
       "        vertical-align: middle;\n",
       "    }\n",
       "\n",
       "    .dataframe tbody tr th {\n",
       "        vertical-align: top;\n",
       "    }\n",
       "\n",
       "    .dataframe thead th {\n",
       "        text-align: right;\n",
       "    }\n",
       "</style>\n",
       "<table border=\"1\" class=\"dataframe\">\n",
       "  <thead>\n",
       "    <tr style=\"text-align: right;\">\n",
       "      <th></th>\n",
       "      <th>New Moon</th>\n",
       "      <th>Waxing Crescent</th>\n",
       "      <th>First Quarter</th>\n",
       "      <th>Waxing Gibbous</th>\n",
       "      <th>Full Moon</th>\n",
       "      <th>Waning Gibbous</th>\n",
       "      <th>Third Quarter</th>\n",
       "      <th>Waning Crescent</th>\n",
       "    </tr>\n",
       "    <tr>\n",
       "      <th>crime</th>\n",
       "      <th></th>\n",
       "      <th></th>\n",
       "      <th></th>\n",
       "      <th></th>\n",
       "      <th></th>\n",
       "      <th></th>\n",
       "      <th></th>\n",
       "      <th></th>\n",
       "    </tr>\n",
       "  </thead>\n",
       "  <tbody>\n",
       "    <tr>\n",
       "      <th>AGG ASSAULT</th>\n",
       "      <td>60</td>\n",
       "      <td>534</td>\n",
       "      <td>6</td>\n",
       "      <td>436</td>\n",
       "      <td>114</td>\n",
       "      <td>487</td>\n",
       "      <td>4</td>\n",
       "      <td>529</td>\n",
       "    </tr>\n",
       "    <tr>\n",
       "      <th>AUTO THEFT</th>\n",
       "      <td>112</td>\n",
       "      <td>793</td>\n",
       "      <td>9</td>\n",
       "      <td>838</td>\n",
       "      <td>240</td>\n",
       "      <td>838</td>\n",
       "      <td>19</td>\n",
       "      <td>983</td>\n",
       "    </tr>\n",
       "    <tr>\n",
       "      <th>BURGLARY-NONRES</th>\n",
       "      <td>36</td>\n",
       "      <td>211</td>\n",
       "      <td>2</td>\n",
       "      <td>203</td>\n",
       "      <td>40</td>\n",
       "      <td>201</td>\n",
       "      <td>8</td>\n",
       "      <td>267</td>\n",
       "    </tr>\n",
       "    <tr>\n",
       "      <th>BURGLARY-RESIDENCE</th>\n",
       "      <td>106</td>\n",
       "      <td>699</td>\n",
       "      <td>8</td>\n",
       "      <td>705</td>\n",
       "      <td>191</td>\n",
       "      <td>752</td>\n",
       "      <td>18</td>\n",
       "      <td>930</td>\n",
       "    </tr>\n",
       "    <tr>\n",
       "      <th>HOMICIDE</th>\n",
       "      <td>6</td>\n",
       "      <td>33</td>\n",
       "      <td>0</td>\n",
       "      <td>19</td>\n",
       "      <td>3</td>\n",
       "      <td>20</td>\n",
       "      <td>0</td>\n",
       "      <td>26</td>\n",
       "    </tr>\n",
       "    <tr>\n",
       "      <th>LARCENY-FROM VEHICLE</th>\n",
       "      <td>335</td>\n",
       "      <td>2169</td>\n",
       "      <td>31</td>\n",
       "      <td>2085</td>\n",
       "      <td>591</td>\n",
       "      <td>2179</td>\n",
       "      <td>42</td>\n",
       "      <td>2548</td>\n",
       "    </tr>\n",
       "    <tr>\n",
       "      <th>LARCENY-NON VEHICLE</th>\n",
       "      <td>192</td>\n",
       "      <td>1486</td>\n",
       "      <td>18</td>\n",
       "      <td>1433</td>\n",
       "      <td>359</td>\n",
       "      <td>1418</td>\n",
       "      <td>21</td>\n",
       "      <td>1689</td>\n",
       "    </tr>\n",
       "    <tr>\n",
       "      <th>RAPE</th>\n",
       "      <td>4</td>\n",
       "      <td>33</td>\n",
       "      <td>2</td>\n",
       "      <td>30</td>\n",
       "      <td>6</td>\n",
       "      <td>28</td>\n",
       "      <td>0</td>\n",
       "      <td>39</td>\n",
       "    </tr>\n",
       "    <tr>\n",
       "      <th>ROBBERY-COMMERCIAL</th>\n",
       "      <td>6</td>\n",
       "      <td>39</td>\n",
       "      <td>0</td>\n",
       "      <td>47</td>\n",
       "      <td>8</td>\n",
       "      <td>44</td>\n",
       "      <td>1</td>\n",
       "      <td>56</td>\n",
       "    </tr>\n",
       "    <tr>\n",
       "      <th>ROBBERY-PEDESTRIAN</th>\n",
       "      <td>58</td>\n",
       "      <td>310</td>\n",
       "      <td>3</td>\n",
       "      <td>336</td>\n",
       "      <td>83</td>\n",
       "      <td>306</td>\n",
       "      <td>4</td>\n",
       "      <td>401</td>\n",
       "    </tr>\n",
       "    <tr>\n",
       "      <th>ROBBERY-RESIDENCE</th>\n",
       "      <td>4</td>\n",
       "      <td>40</td>\n",
       "      <td>0</td>\n",
       "      <td>48</td>\n",
       "      <td>13</td>\n",
       "      <td>39</td>\n",
       "      <td>1</td>\n",
       "      <td>60</td>\n",
       "    </tr>\n",
       "  </tbody>\n",
       "</table>\n",
       "</div>"
      ],
      "text/plain": [
       "                      New Moon  Waxing Crescent  First Quarter  \\\n",
       "crime                                                            \n",
       "AGG ASSAULT                 60              534              6   \n",
       "AUTO THEFT                 112              793              9   \n",
       "BURGLARY-NONRES             36              211              2   \n",
       "BURGLARY-RESIDENCE         106              699              8   \n",
       "HOMICIDE                     6               33              0   \n",
       "LARCENY-FROM VEHICLE       335             2169             31   \n",
       "LARCENY-NON VEHICLE        192             1486             18   \n",
       "RAPE                         4               33              2   \n",
       "ROBBERY-COMMERCIAL           6               39              0   \n",
       "ROBBERY-PEDESTRIAN          58              310              3   \n",
       "ROBBERY-RESIDENCE            4               40              0   \n",
       "\n",
       "                      Waxing Gibbous  Full Moon  Waning Gibbous  \\\n",
       "crime                                                             \n",
       "AGG ASSAULT                      436        114             487   \n",
       "AUTO THEFT                       838        240             838   \n",
       "BURGLARY-NONRES                  203         40             201   \n",
       "BURGLARY-RESIDENCE               705        191             752   \n",
       "HOMICIDE                          19          3              20   \n",
       "LARCENY-FROM VEHICLE            2085        591            2179   \n",
       "LARCENY-NON VEHICLE             1433        359            1418   \n",
       "RAPE                              30          6              28   \n",
       "ROBBERY-COMMERCIAL                47          8              44   \n",
       "ROBBERY-PEDESTRIAN               336         83             306   \n",
       "ROBBERY-RESIDENCE                 48         13              39   \n",
       "\n",
       "                      Third Quarter  Waning Crescent  \n",
       "crime                                                 \n",
       "AGG ASSAULT                       4              529  \n",
       "AUTO THEFT                       19              983  \n",
       "BURGLARY-NONRES                   8              267  \n",
       "BURGLARY-RESIDENCE               18              930  \n",
       "HOMICIDE                          0               26  \n",
       "LARCENY-FROM VEHICLE             42             2548  \n",
       "LARCENY-NON VEHICLE              21             1689  \n",
       "RAPE                              0               39  \n",
       "ROBBERY-COMMERCIAL                1               56  \n",
       "ROBBERY-PEDESTRIAN                4              401  \n",
       "ROBBERY-RESIDENCE                 1               60  "
      ]
     },
     "execution_count": 20,
     "metadata": {},
     "output_type": "execute_result"
    }
   ],
   "source": [
    "# New_Moon_Phase_Cleaned\n",
    "New_Moon_Phase_Cleaned.head(20)"
   ]
  },
  {
   "cell_type": "code",
   "execution_count": 21,
   "id": "209be80c",
   "metadata": {},
   "outputs": [
    {
     "data": {
      "image/png": "[encoded data removed]",
      "text/plain": [
       "<Figure size 432x288 with 1 Axes>"
      ]
     },
     "metadata": {
      "needs_background": "light"
     },
     "output_type": "display_data"
    }
   ],
   "source": [
    "Moon_Crime_Sum = New_Moon_Phase_Cleaned.sum()\n",
    "xaxis = New_Moon_Phase_Cleaned.columns\n",
    "\n",
    "phase_list\n",
    "phase = 0\n",
    "yaxis = []\n",
    "\n",
    "for x in Moon_Crime_Sum:\n",
    "    yaxis.append(x/phase_list[phase])\n",
    "    phase = phase + 1\n",
    "\n",
    "\n",
    "plt.plot(xaxis, yaxis)\n",
    "plt.xlabel('Different Phase of Moon')\n",
    "plt.xticks(rotation=\"vertical\")\n",
    "plt.ylabel('Percentage of Crime Rate')\n",
    "plt.title('Crime Rate in Atlanta by Moon Phase')\n",
    "plt.savefig(\"MoonPhease.png\",\n",
    "            bbox_inches =\"tight\")\n",
    "plt.show()"
   ]
  },
  {
   "cell_type": "markdown",
   "id": "cc5fd35f",
   "metadata": {},
   "source": [
    "## Precipitation vs. Crime Rate"
   ]
  },
  {
   "cell_type": "code",
   "execution_count": 22,
   "id": "52f9c8db",
   "metadata": {},
   "outputs": [
    {
     "data": {
      "image/png": "[encoded data removed]",
      "text/plain": [
       "<Figure size 432x288 with 1 Axes>"
      ]
     },
     "metadata": {
      "needs_background": "light"
     },
     "output_type": "display_data"
    },
    {
     "data": {
      "text/plain": [
       "<Figure size 432x288 with 0 Axes>"
      ]
     },
     "metadata": {},
     "output_type": "display_data"
    }
   ],
   "source": [
    "Crime_Rain_Range = Merged_DF.groupby([\"Precip_Range\"]).count()['crime']\n",
    "Rain_chart = Crime_Rain_Range.plot(kind = 'bar')\n",
    "Rain_chart.set_xlabel('Precipitation Range (in)')\n",
    "Rain_chart.set_ylabel('Number of Violent Crime')\n",
    "Rain_chart.set_title('Precipitation range vs. Count of Violent Crime in Atlanta')\n",
    "plt.savefig(\"Precipitation and Crime.png\",\n",
    "            bbox_inches =\"tight\")\n",
    "plt.show()\n",
    "plt.tight_layout()"
   ]
  },
  {
   "cell_type": "code",
   "execution_count": 23,
   "id": "a884479e",
   "metadata": {},
   "outputs": [
    {
     "data": {
      "image/png": "[encoded data removed]",
      "text/plain": [
       "<Figure size 432x288 with 1 Axes>"
      ]
     },
     "metadata": {
      "needs_background": "light"
     },
     "output_type": "display_data"
    },
    {
     "name": "stdout",
     "output_type": "stream",
     "text": [
      "R value is 0.16035897649963357.\n",
      "The correlation coefficient between precipitation and crime rate is -0.4\n"
     ]
    }
   ],
   "source": [
    "Removed_Rain = Merged_DF.loc[Merged_DF['precip'] != 0,:]\n",
    "\n",
    "Rain_2 = Removed_Rain.groupby(['precip']).count()['crime']\n",
    "\n",
    "\n",
    "\n",
    "xAxis_rain = Removed_Rain['precip'].unique()\n",
    "output_rain = sorted(xAxis_rain, key = float)\n",
    "rain_array = np.array(output_rain, dtype=np.float64)\n",
    "\n",
    "plt.scatter(rain_array, Rain_2)\n",
    "(slope, intercept, rvalue, pvalue, stderr) = stats.linregress(rain_array, Rain_2)\n",
    "crime_rain_fit = (slope * rain_array) + intercept\n",
    "line_eq = \"y = \" + str(round(slope,2)) + \"x + \" + str(round(intercept,2))\n",
    "plt.plot(rain_array, crime_rain_fit, \"r-\")\n",
    "plt.annotate(line_eq,(1, 250),fontsize=15,color=\"red\")\n",
    "plt.xlabel('Precipitation (in)')\n",
    "plt.ylabel('Count of Crime')\n",
    "plt.title('Precipitation (in) in relation to Number of Crime')\n",
    "plt.savefig(\"Precipitation adn Crime 2.png\",\n",
    "            bbox_inches =\"tight\")\n",
    "plt.show()\n",
    "\n",
    "print(f\"R value is {rvalue**2}.\")\n",
    "print(f\"The correlation coefficient between precipitation and crime rate is {round(st.pearsonr(rain_array, Rain_2)[0],2)}\")"
   ]
  },
  {
   "cell_type": "markdown",
   "id": "3f0f6c69",
   "metadata": {},
   "source": [
    "## Neighborhood vs. Crime Rate (Midtown, Downtown, West End, Old Fourth Ward, Vine City)\n"
   ]
  },
  {
   "cell_type": "code",
   "execution_count": 24,
   "id": "48b4813c",
   "metadata": {},
   "outputs": [],
   "source": [
    "# Neighbor_DF = Merged_DF.loc[Merged_DF['neighborhood'].isin(['Downtown','Midtown','Old Fourth Ward','West End','Vine City'])]\n",
    "# Cleaned_Neighbor = Neighbor_DF.groupby(['neighborhood', 'Temp Range'])\n",
    "# More_Cleaned_Neighbor = Cleaned_Neighbor['crime'].count()\n",
    "# print(More_Cleaned_Neighbor)"
   ]
  },
  {
   "cell_type": "code",
   "execution_count": 25,
   "id": "61435bd8",
   "metadata": {},
   "outputs": [],
   "source": [
    "# Neighbor_chart = More_Cleaned_Neighbor.plot(kind = \"bar\")\n",
    "# plt.show()"
   ]
  },
  {
   "cell_type": "code",
   "execution_count": 26,
   "id": "c3696c94",
   "metadata": {},
   "outputs": [
    {
     "data": {
      "image/png": "[encoded data removed]",
      "text/plain": [
       "<Figure size 1080x720 with 1 Axes>"
      ]
     },
     "metadata": {
      "needs_background": "light"
     },
     "output_type": "display_data"
    }
   ],
   "source": [
    "More_Cleaned_Neighbor.plot.bar(x='temp range', y='count', rot=45, figsize=(15, 10))\n",
    "plt.title(\"Number of Crime by Neighborhood and Temperature\")\n",
    "plt.xlabel(\"Temperature Range (F) by Each Neighborhood\")\n",
    "plt.ylabel(\"Number of Crime\")\n",
    "plt.savefig(\"Neighborhood_Crime.png\",\n",
    "            bbox_inches =\"tight\")"
   ]
  },
  {
   "cell_type": "code",
   "execution_count": 38,
   "id": "70b9e878",
   "metadata": {},
   "outputs": [
    {
     "data": {
      "text/plain": [
       "crime\n",
       "AGG ASSAULT              208\n",
       "AUTO THEFT               412\n",
       "BURGLARY-NONRES          113\n",
       "BURGLARY-RESIDENCE       412\n",
       "HOMICIDE                  10\n",
       "LARCENY-FROM VEHICLE    1015\n",
       "LARCENY-NON VEHICLE      703\n",
       "RAPE                      21\n",
       "ROBBERY-COMMERCIAL        25\n",
       "ROBBERY-PEDESTRIAN       156\n",
       "ROBBERY-RESIDENCE         16\n",
       "Name: name, dtype: int64"
      ]
     },
     "execution_count": 38,
     "metadata": {},
     "output_type": "execute_result"
    }
   ],
   "source": [
    "bad_weather = Merged_DF.loc[(Merged_DF['temp'] < 50) | (Merged_DF['temp'] > 80)]\n",
    "bad_weather_cleaned = bad_weather.loc[bad_weather['precip'] > 0]\n",
    "bad_weather_crime = bad_weather_cleaned.groupby(['crime']).count()['name']\n",
    "bad_weather_crime\n"
   ]
  },
  {
   "cell_type": "code",
   "execution_count": 32,
   "id": "53c039ca",
   "metadata": {},
   "outputs": [
    {
     "data": {
      "text/plain": [
       "crime\n",
       "AGG ASSAULT              335\n",
       "AUTO THEFT               533\n",
       "BURGLARY-NONRES          118\n",
       "BURGLARY-RESIDENCE       434\n",
       "HOMICIDE                  22\n",
       "LARCENY-FROM VEHICLE    1479\n",
       "LARCENY-NON VEHICLE      945\n",
       "RAPE                      15\n",
       "ROBBERY-COMMERCIAL        19\n",
       "ROBBERY-PEDESTRIAN       229\n",
       "ROBBERY-RESIDENCE         19\n",
       "Name: name, dtype: int64"
      ]
     },
     "execution_count": 32,
     "metadata": {},
     "output_type": "execute_result"
    }
   ],
   "source": [
    "good_weather = Merged_DF.loc[(Merged_DF['temp'] >= 65) & (Merged_DF['precip'] == 0)]\n",
    "good_weather_cleaned = good_weather.loc[good_weather['temp'] <= 75]\n",
    "good_weather_crime = good_weather_cleaned.groupby(['crime']).count()['name']\n",
    "good_weather_crime"
   ]
  },
  {
   "cell_type": "code",
   "execution_count": 41,
   "id": "fa3ac924",
   "metadata": {},
   "outputs": [
    {
     "ename": "TypeError",
     "evalue": "pie() got an unexpected keyword argument 'facecolor'",
     "output_type": "error",
     "traceback": [
      "\u001b[0;31m---------------------------------------------------------------------------\u001b[0m",
      "\u001b[0;31mTypeError\u001b[0m                                 Traceback (most recent call last)",
      "Input \u001b[0;32mIn [41]\u001b[0m, in \u001b[0;36m<cell line: 1>\u001b[0;34m()\u001b[0m\n\u001b[0;32m----> 1\u001b[0m \u001b[43mgood_weather_crime\u001b[49m\u001b[38;5;241;43m.\u001b[39;49m\u001b[43mplot\u001b[49m\u001b[38;5;241;43m.\u001b[39;49m\u001b[43mpie\u001b[49m\u001b[43m(\u001b[49m\u001b[43mx\u001b[49m\u001b[38;5;241;43m=\u001b[39;49m\u001b[38;5;124;43m'\u001b[39;49m\u001b[38;5;124;43mcrime\u001b[39;49m\u001b[38;5;124;43m'\u001b[39;49m\u001b[43m,\u001b[49m\u001b[43m \u001b[49m\u001b[43my\u001b[49m\u001b[38;5;241;43m=\u001b[39;49m\u001b[38;5;124;43m'\u001b[39;49m\u001b[38;5;124;43mcount\u001b[39;49m\u001b[38;5;124;43m'\u001b[39;49m\u001b[43m,\u001b[49m\u001b[43m \u001b[49m\u001b[43mrot\u001b[49m\u001b[38;5;241;43m=\u001b[39;49m\u001b[38;5;241;43m45\u001b[39;49m\u001b[43m,\u001b[49m\u001b[43m \u001b[49m\u001b[43mfigsize\u001b[49m\u001b[38;5;241;43m=\u001b[39;49m\u001b[43m(\u001b[49m\u001b[38;5;241;43m15\u001b[39;49m\u001b[43m,\u001b[49m\u001b[43m \u001b[49m\u001b[38;5;241;43m10\u001b[39;49m\u001b[43m)\u001b[49m\u001b[43m,\u001b[49m\u001b[43m \u001b[49m\u001b[43mfacecolor\u001b[49m\u001b[38;5;241;43m=\u001b[39;49m\u001b[38;5;124;43m'\u001b[39;49m\u001b[38;5;124;43mg\u001b[39;49m\u001b[38;5;124;43m'\u001b[39;49m\u001b[43m)\u001b[49m\n\u001b[1;32m      2\u001b[0m plt\u001b[38;5;241m.\u001b[39mylim(\u001b[38;5;241m0\u001b[39m,\u001b[38;5;241m1500\u001b[39m)\n\u001b[1;32m      3\u001b[0m plt\u001b[38;5;241m.\u001b[39mtitle(\u001b[38;5;124m\"\u001b[39m\u001b[38;5;124mNumber of Different Crime in Good Weather\u001b[39m\u001b[38;5;124m\"\u001b[39m)\n",
      "File \u001b[0;32m~/opt/anaconda3/lib/python3.9/site-packages/pandas/plotting/_core.py:1584\u001b[0m, in \u001b[0;36mPlotAccessor.pie\u001b[0;34m(self, **kwargs)\u001b[0m\n\u001b[1;32m   1578\u001b[0m \u001b[38;5;28;01mif\u001b[39;00m (\n\u001b[1;32m   1579\u001b[0m     \u001b[38;5;28misinstance\u001b[39m(\u001b[38;5;28mself\u001b[39m\u001b[38;5;241m.\u001b[39m_parent, ABCDataFrame)\n\u001b[1;32m   1580\u001b[0m     \u001b[38;5;129;01mand\u001b[39;00m kwargs\u001b[38;5;241m.\u001b[39mget(\u001b[38;5;124m\"\u001b[39m\u001b[38;5;124my\u001b[39m\u001b[38;5;124m\"\u001b[39m, \u001b[38;5;28;01mNone\u001b[39;00m) \u001b[38;5;129;01mis\u001b[39;00m \u001b[38;5;28;01mNone\u001b[39;00m\n\u001b[1;32m   1581\u001b[0m     \u001b[38;5;129;01mand\u001b[39;00m \u001b[38;5;129;01mnot\u001b[39;00m kwargs\u001b[38;5;241m.\u001b[39mget(\u001b[38;5;124m\"\u001b[39m\u001b[38;5;124msubplots\u001b[39m\u001b[38;5;124m\"\u001b[39m, \u001b[38;5;28;01mFalse\u001b[39;00m)\n\u001b[1;32m   1582\u001b[0m ):\n\u001b[1;32m   1583\u001b[0m     \u001b[38;5;28;01mraise\u001b[39;00m \u001b[38;5;167;01mValueError\u001b[39;00m(\u001b[38;5;124m\"\u001b[39m\u001b[38;5;124mpie requires either y column or \u001b[39m\u001b[38;5;124m'\u001b[39m\u001b[38;5;124msubplots=True\u001b[39m\u001b[38;5;124m'\u001b[39m\u001b[38;5;124m\"\u001b[39m)\n\u001b[0;32m-> 1584\u001b[0m \u001b[38;5;28;01mreturn\u001b[39;00m \u001b[38;5;28;43mself\u001b[39;49m\u001b[43m(\u001b[49m\u001b[43mkind\u001b[49m\u001b[38;5;241;43m=\u001b[39;49m\u001b[38;5;124;43m\"\u001b[39;49m\u001b[38;5;124;43mpie\u001b[39;49m\u001b[38;5;124;43m\"\u001b[39;49m\u001b[43m,\u001b[49m\u001b[43m \u001b[49m\u001b[38;5;241;43m*\u001b[39;49m\u001b[38;5;241;43m*\u001b[39;49m\u001b[43mkwargs\u001b[49m\u001b[43m)\u001b[49m\n",
      "File \u001b[0;32m~/opt/anaconda3/lib/python3.9/site-packages/pandas/plotting/_core.py:972\u001b[0m, in \u001b[0;36mPlotAccessor.__call__\u001b[0;34m(self, *args, **kwargs)\u001b[0m\n\u001b[1;32m    969\u001b[0m             label_name \u001b[38;5;241m=\u001b[39m label_kw \u001b[38;5;129;01mor\u001b[39;00m data\u001b[38;5;241m.\u001b[39mcolumns\n\u001b[1;32m    970\u001b[0m             data\u001b[38;5;241m.\u001b[39mcolumns \u001b[38;5;241m=\u001b[39m label_name\n\u001b[0;32m--> 972\u001b[0m \u001b[38;5;28;01mreturn\u001b[39;00m \u001b[43mplot_backend\u001b[49m\u001b[38;5;241;43m.\u001b[39;49m\u001b[43mplot\u001b[49m\u001b[43m(\u001b[49m\u001b[43mdata\u001b[49m\u001b[43m,\u001b[49m\u001b[43m \u001b[49m\u001b[43mkind\u001b[49m\u001b[38;5;241;43m=\u001b[39;49m\u001b[43mkind\u001b[49m\u001b[43m,\u001b[49m\u001b[43m \u001b[49m\u001b[38;5;241;43m*\u001b[39;49m\u001b[38;5;241;43m*\u001b[39;49m\u001b[43mkwargs\u001b[49m\u001b[43m)\u001b[49m\n",
      "File \u001b[0;32m~/opt/anaconda3/lib/python3.9/site-packages/pandas/plotting/_matplotlib/__init__.py:71\u001b[0m, in \u001b[0;36mplot\u001b[0;34m(data, kind, **kwargs)\u001b[0m\n\u001b[1;32m     69\u001b[0m         kwargs[\u001b[38;5;124m\"\u001b[39m\u001b[38;5;124max\u001b[39m\u001b[38;5;124m\"\u001b[39m] \u001b[38;5;241m=\u001b[39m \u001b[38;5;28mgetattr\u001b[39m(ax, \u001b[38;5;124m\"\u001b[39m\u001b[38;5;124mleft_ax\u001b[39m\u001b[38;5;124m\"\u001b[39m, ax)\n\u001b[1;32m     70\u001b[0m plot_obj \u001b[38;5;241m=\u001b[39m PLOT_CLASSES[kind](data, \u001b[38;5;241m*\u001b[39m\u001b[38;5;241m*\u001b[39mkwargs)\n\u001b[0;32m---> 71\u001b[0m \u001b[43mplot_obj\u001b[49m\u001b[38;5;241;43m.\u001b[39;49m\u001b[43mgenerate\u001b[49m\u001b[43m(\u001b[49m\u001b[43m)\u001b[49m\n\u001b[1;32m     72\u001b[0m plot_obj\u001b[38;5;241m.\u001b[39mdraw()\n\u001b[1;32m     73\u001b[0m \u001b[38;5;28;01mreturn\u001b[39;00m plot_obj\u001b[38;5;241m.\u001b[39mresult\n",
      "File \u001b[0;32m~/opt/anaconda3/lib/python3.9/site-packages/pandas/plotting/_matplotlib/core.py:329\u001b[0m, in \u001b[0;36mMPLPlot.generate\u001b[0;34m(self)\u001b[0m\n\u001b[1;32m    327\u001b[0m \u001b[38;5;28mself\u001b[39m\u001b[38;5;241m.\u001b[39m_compute_plot_data()\n\u001b[1;32m    328\u001b[0m \u001b[38;5;28mself\u001b[39m\u001b[38;5;241m.\u001b[39m_setup_subplots()\n\u001b[0;32m--> 329\u001b[0m \u001b[38;5;28;43mself\u001b[39;49m\u001b[38;5;241;43m.\u001b[39;49m\u001b[43m_make_plot\u001b[49m\u001b[43m(\u001b[49m\u001b[43m)\u001b[49m\n\u001b[1;32m    330\u001b[0m \u001b[38;5;28mself\u001b[39m\u001b[38;5;241m.\u001b[39m_add_table()\n\u001b[1;32m    331\u001b[0m \u001b[38;5;28mself\u001b[39m\u001b[38;5;241m.\u001b[39m_make_legend()\n",
      "File \u001b[0;32m~/opt/anaconda3/lib/python3.9/site-packages/pandas/plotting/_matplotlib/core.py:1666\u001b[0m, in \u001b[0;36mPiePlot._make_plot\u001b[0;34m(self)\u001b[0m\n\u001b[1;32m   1664\u001b[0m \u001b[38;5;28;01melse\u001b[39;00m:\n\u001b[1;32m   1665\u001b[0m     blabels \u001b[38;5;241m=\u001b[39m \u001b[38;5;28;01mNone\u001b[39;00m\n\u001b[0;32m-> 1666\u001b[0m results \u001b[38;5;241m=\u001b[39m \u001b[43max\u001b[49m\u001b[38;5;241;43m.\u001b[39;49m\u001b[43mpie\u001b[49m\u001b[43m(\u001b[49m\u001b[43my\u001b[49m\u001b[43m,\u001b[49m\u001b[43m \u001b[49m\u001b[43mlabels\u001b[49m\u001b[38;5;241;43m=\u001b[39;49m\u001b[43mblabels\u001b[49m\u001b[43m,\u001b[49m\u001b[43m \u001b[49m\u001b[38;5;241;43m*\u001b[39;49m\u001b[38;5;241;43m*\u001b[39;49m\u001b[43mkwds\u001b[49m\u001b[43m)\u001b[49m\n\u001b[1;32m   1668\u001b[0m \u001b[38;5;28;01mif\u001b[39;00m kwds\u001b[38;5;241m.\u001b[39mget(\u001b[38;5;124m\"\u001b[39m\u001b[38;5;124mautopct\u001b[39m\u001b[38;5;124m\"\u001b[39m, \u001b[38;5;28;01mNone\u001b[39;00m) \u001b[38;5;129;01mis\u001b[39;00m \u001b[38;5;129;01mnot\u001b[39;00m \u001b[38;5;28;01mNone\u001b[39;00m:\n\u001b[1;32m   1669\u001b[0m     patches, texts, autotexts \u001b[38;5;241m=\u001b[39m results\n",
      "File \u001b[0;32m~/opt/anaconda3/lib/python3.9/site-packages/matplotlib/__init__.py:1412\u001b[0m, in \u001b[0;36m_preprocess_data.<locals>.inner\u001b[0;34m(ax, data, *args, **kwargs)\u001b[0m\n\u001b[1;32m   1409\u001b[0m \u001b[38;5;129m@functools\u001b[39m\u001b[38;5;241m.\u001b[39mwraps(func)\n\u001b[1;32m   1410\u001b[0m \u001b[38;5;28;01mdef\u001b[39;00m \u001b[38;5;21minner\u001b[39m(ax, \u001b[38;5;241m*\u001b[39margs, data\u001b[38;5;241m=\u001b[39m\u001b[38;5;28;01mNone\u001b[39;00m, \u001b[38;5;241m*\u001b[39m\u001b[38;5;241m*\u001b[39mkwargs):\n\u001b[1;32m   1411\u001b[0m     \u001b[38;5;28;01mif\u001b[39;00m data \u001b[38;5;129;01mis\u001b[39;00m \u001b[38;5;28;01mNone\u001b[39;00m:\n\u001b[0;32m-> 1412\u001b[0m         \u001b[38;5;28;01mreturn\u001b[39;00m \u001b[43mfunc\u001b[49m\u001b[43m(\u001b[49m\u001b[43max\u001b[49m\u001b[43m,\u001b[49m\u001b[43m \u001b[49m\u001b[38;5;241;43m*\u001b[39;49m\u001b[38;5;28;43mmap\u001b[39;49m\u001b[43m(\u001b[49m\u001b[43msanitize_sequence\u001b[49m\u001b[43m,\u001b[49m\u001b[43m \u001b[49m\u001b[43margs\u001b[49m\u001b[43m)\u001b[49m\u001b[43m,\u001b[49m\u001b[43m \u001b[49m\u001b[38;5;241;43m*\u001b[39;49m\u001b[38;5;241;43m*\u001b[39;49m\u001b[43mkwargs\u001b[49m\u001b[43m)\u001b[49m\n\u001b[1;32m   1414\u001b[0m     bound \u001b[38;5;241m=\u001b[39m new_sig\u001b[38;5;241m.\u001b[39mbind(ax, \u001b[38;5;241m*\u001b[39margs, \u001b[38;5;241m*\u001b[39m\u001b[38;5;241m*\u001b[39mkwargs)\n\u001b[1;32m   1415\u001b[0m     auto_label \u001b[38;5;241m=\u001b[39m (bound\u001b[38;5;241m.\u001b[39marguments\u001b[38;5;241m.\u001b[39mget(label_namer)\n\u001b[1;32m   1416\u001b[0m                   \u001b[38;5;129;01mor\u001b[39;00m bound\u001b[38;5;241m.\u001b[39mkwargs\u001b[38;5;241m.\u001b[39mget(label_namer))\n",
      "\u001b[0;31mTypeError\u001b[0m: pie() got an unexpected keyword argument 'facecolor'"
     ]
    },
    {
     "data": {
      "image/png": "[encoded data removed]",
      "text/plain": [
       "<Figure size 1080x720 with 1 Axes>"
      ]
     },
     "metadata": {
      "needs_background": "light"
     },
     "output_type": "display_data"
    }
   ],
   "source": [
    "good_weather_crime.plot.pie(x='crime', y='count', rot=45, figsize=(15, 10), facecolor='g')\n",
    "plt.ylim(0,1500)\n",
    "plt.title(\"Number of Different Crime in Good Weather\")\n",
    "plt.xlabel(\"Different Type of Crime\")\n",
    "plt.ylabel(\"Number of Crime\")\n",
    "plt.savefig(\"Good_weather_crime.png\",\n",
    "            bbox_inches =\"tight\")\n",
    "plt.show()"
   ]
  },
  {
   "cell_type": "code",
   "execution_count": 39,
   "id": "0f931b3c",
   "metadata": {},
   "outputs": [
    {
     "data": {
      "image/png": "[encoded data removed]",
      "text/plain": [
       "<Figure size 1080x720 with 1 Axes>"
      ]
     },
     "metadata": {
      "needs_background": "light"
     },
     "output_type": "display_data"
    }
   ],
   "source": [
    "bad_weather_crime.plot.bar(x='crime', y='count', rot=45, figsize=(15, 10), facecolor='r')\n",
    "plt.ylim(0,1500)\n",
    "plt.title(\"Number of Different Crime in Bad Weather\")\n",
    "plt.xlabel(\"Different Type of Crime\")\n",
    "plt.ylabel(\"Number of Crime\")\n",
    "plt.savefig(\"Bad_weather_crime.png\",\n",
    "            bbox_inches =\"tight\")\n",
    "plt.show()"
   ]
  },
  {
   "cell_type": "code",
   "execution_count": null,
   "id": "0fd2f616",
   "metadata": {},
   "outputs": [],
   "source": []
  }
 ],
 "metadata": {
  "kernelspec": {
   "display_name": "Python 3 (ipykernel)",
   "language": "python",
   "name": "python3"
  },
  "language_info": {
   "codemirror_mode": {
    "name": "ipython",
    "version": 3
   },
   "file_extension": ".py",
   "mimetype": "text/x-python",
   "name": "python",
   "nbconvert_exporter": "python",
   "pygments_lexer": "ipython3",
   "version": "3.9.12"
  }
 },
 "nbformat": 4,
 "nbformat_minor": 5
}
