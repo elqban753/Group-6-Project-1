{
 "cells": [
  {
   "cell_type": "code",
   "execution_count": 1,
   "id": "3a92b7a7",
   "metadata": {},
   "outputs": [],
   "source": [
    "import json\n",
    "import requests\n",
    "from pprint import pprint\n",
    "import pandas as pd\n"
   ]
  },
  {
   "cell_type": "markdown",
   "id": "7c9bcb44",
   "metadata": {},
   "source": [
    "## Import raw data and convert to merged data "
   ]
  },
  {
   "cell_type": "code",
   "execution_count": 2,
   "id": "476ecadd",
   "metadata": {},
   "outputs": [
    {
     "name": "stderr",
     "output_type": "stream",
     "text": [
      "/var/folders/7t/0gtlmn8s5cv7hcm0bl20pb4h0000gn/T/ipykernel_14664/1494093554.py:3: DtypeWarning: Columns (5) have mixed types. Specify dtype option on import or set low_memory=False.\n",
      "  Crime_DF = pd.read_csv(filepath_crime, encoding=\"utf-8\")\n"
     ]
    }
   ],
   "source": [
    "filepath_crime = \"atlcrime.csv\"\n",
    "filepath_weather = \"weather_atl_2016.csv\"\n",
    "Crime_DF = pd.read_csv(filepath_crime, encoding=\"utf-8\")\n",
    "Weather_DF = pd.read_csv(filepath_weather, encoding=\"utf-8\")\n"
   ]
  },
  {
   "cell_type": "code",
   "execution_count": 3,
   "id": "9f7cb436",
   "metadata": {},
   "outputs": [],
   "source": [
    "Cleaned_Crime_DF = Crime_DF.drop(['Unnamed: 0','location', 'number', 'beat', 'npu'], axis =1)"
   ]
  },
  {
   "cell_type": "code",
   "execution_count": 4,
   "id": "391c7468",
   "metadata": {},
   "outputs": [],
   "source": [
    "Cleaned_Weather_DF = Weather_DF.drop(['feelslikemax','feelslikemin', 'feelslike', 'dew', 'humidity', 'precipprob',\n",
    "                                 'precipcover', 'preciptype', 'windgust', 'windspeed', 'winddir',\n",
    "                                 'sealevelpressure', 'cloudcover', 'visibility', 'solarradiation',\n",
    "                                 'solarenergy', 'uvindex', 'severerisk', 'sunrise', 'sunset',\n",
    "                                 'conditions', 'description', 'icon', 'stations'], axis =1)"
   ]
  },
  {
   "cell_type": "code",
   "execution_count": 5,
   "id": "5422e6b3",
   "metadata": {},
   "outputs": [],
   "source": [
    "Cleaned_Crime_DF['date'] = Cleaned_Crime_DF['date'].astype('datetime64[ns]')\n",
    "Cleaned_Weather_DF['datetime'] = Cleaned_Weather_DF['datetime'].astype('datetime64[ns]')\n",
    "Cleaned_Crime_DF = Cleaned_Crime_DF.rename(columns = {'date':'datetime'})\n"
   ]
  },
  {
   "cell_type": "code",
   "execution_count": 6,
   "id": "95c3e2ba",
   "metadata": {},
   "outputs": [],
   "source": [
    "Merged_DF = pd.merge(Cleaned_Weather_DF, Cleaned_Crime_DF, on = 'datetime')"
   ]
  },
  {
   "cell_type": "code",
   "execution_count": 7,
   "id": "5f835db4",
   "metadata": {},
   "outputs": [
    {
     "data": {
      "text/html": [
       "<div>\n",
       "<style scoped>\n",
       "    .dataframe tbody tr th:only-of-type {\n",
       "        vertical-align: middle;\n",
       "    }\n",
       "\n",
       "    .dataframe tbody tr th {\n",
       "        vertical-align: top;\n",
       "    }\n",
       "\n",
       "    .dataframe thead th {\n",
       "        text-align: right;\n",
       "    }\n",
       "</style>\n",
       "<table border=\"1\" class=\"dataframe\">\n",
       "  <thead>\n",
       "    <tr style=\"text-align: right;\">\n",
       "      <th></th>\n",
       "      <th>name</th>\n",
       "      <th>datetime</th>\n",
       "      <th>tempmax</th>\n",
       "      <th>tempmin</th>\n",
       "      <th>temp</th>\n",
       "      <th>precip</th>\n",
       "      <th>snow</th>\n",
       "      <th>snowdepth</th>\n",
       "      <th>moonphase</th>\n",
       "      <th>crime</th>\n",
       "      <th>neighborhood</th>\n",
       "      <th>lat</th>\n",
       "      <th>long</th>\n",
       "    </tr>\n",
       "  </thead>\n",
       "  <tbody>\n",
       "    <tr>\n",
       "      <th>0</th>\n",
       "      <td>atlanta</td>\n",
       "      <td>2016-01-01</td>\n",
       "      <td>45.9</td>\n",
       "      <td>39.6</td>\n",
       "      <td>42.8</td>\n",
       "      <td>0.0</td>\n",
       "      <td>0.0</td>\n",
       "      <td>0.0</td>\n",
       "      <td>0.72</td>\n",
       "      <td>AUTO THEFT</td>\n",
       "      <td>Sweet Auburn</td>\n",
       "      <td>33.75383</td>\n",
       "      <td>-84.37220</td>\n",
       "    </tr>\n",
       "    <tr>\n",
       "      <th>1</th>\n",
       "      <td>atlanta</td>\n",
       "      <td>2016-01-01</td>\n",
       "      <td>45.9</td>\n",
       "      <td>39.6</td>\n",
       "      <td>42.8</td>\n",
       "      <td>0.0</td>\n",
       "      <td>0.0</td>\n",
       "      <td>0.0</td>\n",
       "      <td>0.72</td>\n",
       "      <td>LARCENY-FROM VEHICLE</td>\n",
       "      <td>Downtown</td>\n",
       "      <td>33.77119</td>\n",
       "      <td>-84.38476</td>\n",
       "    </tr>\n",
       "    <tr>\n",
       "      <th>2</th>\n",
       "      <td>atlanta</td>\n",
       "      <td>2016-01-01</td>\n",
       "      <td>45.9</td>\n",
       "      <td>39.6</td>\n",
       "      <td>42.8</td>\n",
       "      <td>0.0</td>\n",
       "      <td>0.0</td>\n",
       "      <td>0.0</td>\n",
       "      <td>0.72</td>\n",
       "      <td>LARCENY-FROM VEHICLE</td>\n",
       "      <td>Midtown</td>\n",
       "      <td>33.77425</td>\n",
       "      <td>-84.38922</td>\n",
       "    </tr>\n",
       "    <tr>\n",
       "      <th>3</th>\n",
       "      <td>atlanta</td>\n",
       "      <td>2016-01-01</td>\n",
       "      <td>45.9</td>\n",
       "      <td>39.6</td>\n",
       "      <td>42.8</td>\n",
       "      <td>0.0</td>\n",
       "      <td>0.0</td>\n",
       "      <td>0.0</td>\n",
       "      <td>0.72</td>\n",
       "      <td>ROBBERY-PEDESTRIAN</td>\n",
       "      <td>Castleberry Hill</td>\n",
       "      <td>33.74520</td>\n",
       "      <td>-84.40406</td>\n",
       "    </tr>\n",
       "    <tr>\n",
       "      <th>4</th>\n",
       "      <td>atlanta</td>\n",
       "      <td>2016-01-01</td>\n",
       "      <td>45.9</td>\n",
       "      <td>39.6</td>\n",
       "      <td>42.8</td>\n",
       "      <td>0.0</td>\n",
       "      <td>0.0</td>\n",
       "      <td>0.0</td>\n",
       "      <td>0.72</td>\n",
       "      <td>AGG ASSAULT</td>\n",
       "      <td>Adamsville</td>\n",
       "      <td>33.75771</td>\n",
       "      <td>-84.50344</td>\n",
       "    </tr>\n",
       "  </tbody>\n",
       "</table>\n",
       "</div>"
      ],
      "text/plain": [
       "      name   datetime  tempmax  tempmin  temp  precip  snow  snowdepth  \\\n",
       "0  atlanta 2016-01-01     45.9     39.6  42.8     0.0   0.0        0.0   \n",
       "1  atlanta 2016-01-01     45.9     39.6  42.8     0.0   0.0        0.0   \n",
       "2  atlanta 2016-01-01     45.9     39.6  42.8     0.0   0.0        0.0   \n",
       "3  atlanta 2016-01-01     45.9     39.6  42.8     0.0   0.0        0.0   \n",
       "4  atlanta 2016-01-01     45.9     39.6  42.8     0.0   0.0        0.0   \n",
       "\n",
       "   moonphase                 crime      neighborhood       lat      long  \n",
       "0       0.72            AUTO THEFT      Sweet Auburn  33.75383 -84.37220  \n",
       "1       0.72  LARCENY-FROM VEHICLE          Downtown  33.77119 -84.38476  \n",
       "2       0.72  LARCENY-FROM VEHICLE           Midtown  33.77425 -84.38922  \n",
       "3       0.72    ROBBERY-PEDESTRIAN  Castleberry Hill  33.74520 -84.40406  \n",
       "4       0.72           AGG ASSAULT        Adamsville  33.75771 -84.50344  "
      ]
     },
     "execution_count": 7,
     "metadata": {},
     "output_type": "execute_result"
    }
   ],
   "source": [
    "Merged_DF.head()"
   ]
  },
  {
   "cell_type": "code",
   "execution_count": null,
   "id": "9534be3d",
   "metadata": {},
   "outputs": [],
   "source": []
  },
  {
   "cell_type": "markdown",
   "id": "7c787820",
   "metadata": {},
   "source": [
    "## Temperature vs. Crime DataFrame "
   ]
  },
  {
   "cell_type": "code",
   "execution_count": 8,
   "id": "d8feffec",
   "metadata": {},
   "outputs": [],
   "source": [
    "# Create bin in which to place values based upon temperature range\n",
    "# max = 87.4\n",
    "# min = 28.2\n",
    "\n",
    "bins = [20,30,40,50,60,70,80,90]\n",
    "labels = [\"20F - 30F\", \"31F - 40F\",\"41F - 50F\",\"51F - 60F\",\"61F - 70F\",\"71F - 80F\",\"81F - 90F\"]\n",
    "Merged_DF['Temp Range'] = pd.cut(Merged_DF['temp'], bins, labels=labels)"
   ]
  },
  {
   "cell_type": "code",
   "execution_count": 9,
   "id": "5025e629",
   "metadata": {},
   "outputs": [
    {
     "name": "stdout",
     "output_type": "stream",
     "text": [
      "[204, 1772, 3636, 4738, 5967, 7336, 5478]\n"
     ]
    }
   ],
   "source": [
    "Crime_Temp_Range = Merged_DF.groupby([\"Temp Range\"]).count()['crime']\n",
    "# Crime_Temp_Range = NewDF['crime'].count()\n",
    "# Crime_Temp_Range\n",
    "Temp_yaxis = []\n",
    "for count in Crime_Temp_Range:\n",
    "    Temp_yaxis.append(count)\n",
    "print(Temp_yaxis)"
   ]
  },
  {
   "cell_type": "markdown",
   "id": "8d51ed80",
   "metadata": {},
   "source": [
    "## Moon Phase vs. Crime DataFrame"
   ]
  },
  {
   "cell_type": "code",
   "execution_count": 10,
   "id": "11e124dd",
   "metadata": {},
   "outputs": [],
   "source": [
    "New_Moon = Merged_DF.loc[Merged_DF['moonphase'] == 0, :]\n",
    "Waxing_Crescent = Merged_DF.loc[(Merged_DF['moonphase'] < 0.25) & (Merged_DF['moonphase'] > 0) , :]\n",
    "First_Quarter = Merged_DF.loc[(Merged_DF['moonphase'] == 0.25) , :]\n",
    "Waxing_Gibbous= Merged_DF.loc[(Merged_DF['moonphase'] < 0.5) & (Merged_DF['moonphase'] > 0.25) , :]\n",
    "Full_Moon = Merged_DF.loc[Merged_DF['moonphase'] == 0.5, :]\n",
    "Waning_Gibbous= Merged_DF.loc[(Merged_DF['moonphase'] < 0.75) & (Merged_DF['moonphase'] > 0.5) , :]\n",
    "Third_Quarter = Merged_DF.loc[Merged_DF['moonphase'] == 0.75,:]\n",
    "Waning_Crescent = Merged_DF.loc[(Merged_DF['moonphase'] <= 1) & (Merged_DF['moonphase'] > 0.75) , :]\n"
   ]
  },
  {
   "cell_type": "code",
   "execution_count": 11,
   "id": "000938b1",
   "metadata": {},
   "outputs": [],
   "source": [
    "Moon_Phase_DF = pd.DataFrame({\n",
    "    'New Moon' : New_Moon.groupby('crime').count()['name'],\n",
    "    'Waxing Crescent' : Waxing_Crescent.groupby('crime').count()['name'],\n",
    "    'First Quarter' : First_Quarter.groupby('crime').count()['name'],\n",
    "    'Waxing Gibbous' : Waxing_Gibbous.groupby('crime').count()['name'],\n",
    "    'Full Moon' : Full_Moon.groupby('crime').count()['name'],\n",
    "    'Waning Gibbous' : Waning_Gibbous.groupby('crime').count()['name'],\n",
    "    'Third Quarter' : Third_Quarter.groupby('crime').count()['name'],\n",
    "    'Waning Crescent' : Waning_Crescent.groupby('crime').count()['name'],\n",
    "})"
   ]
  },
  {
   "cell_type": "code",
   "execution_count": 12,
   "id": "3cee3c0a",
   "metadata": {},
   "outputs": [],
   "source": [
    "# Convert NAN to 0???\n",
    "New_Moon_Phase_Cleaned = Moon_Phase_DF.fillna(0)\n",
    "New_Moon_Phase_Cleaned['First Quarter'] = New_Moon_Phase_Cleaned['First Quarter'].astype('int')\n",
    "New_Moon_Phase_Cleaned['Third Quarter'] = New_Moon_Phase_Cleaned['Third Quarter'].astype('int')\n"
   ]
  },
  {
   "cell_type": "code",
   "execution_count": 13,
   "id": "5712d40d",
   "metadata": {},
   "outputs": [
    {
     "data": {
      "text/plain": [
       "[12, 79, 1, 78, 21, 78, 2, 95]"
      ]
     },
     "execution_count": 13,
     "metadata": {},
     "output_type": "execute_result"
    }
   ],
   "source": [
    "### NUMBER OF DAYS IN EACH MOONPHASE\n",
    "New_Moon_days = len(New_Moon['datetime'].unique())\n",
    "Waxing_Crescent_days = len(Waxing_Crescent['datetime'].unique())\n",
    "First_Quarter_days = len(First_Quarter['datetime'].unique())\n",
    "Waxing_Gibbous_days = len(Waxing_Gibbous['datetime'].unique())\n",
    "Full_Moon_days = len(Full_Moon['datetime'].unique())\n",
    "Waning_Gibbous_days = len(Waning_Gibbous['datetime'].unique())\n",
    "Third_Quarter = len(Third_Quarter['datetime'].unique())\n",
    "Waning_Crescent_days = len(Waning_Crescent['datetime'].unique())\n",
    "\n",
    "phase_list = [New_Moon_days, Waxing_Crescent_days, First_Quarter_days, Waxing_Gibbous_days, Full_Moon_days,  \n",
    "             Waning_Gibbous_days, Third_Quarter, Waning_Crescent_days]\n",
    "\n",
    "# Phase_days = pd.DataFrame({\n",
    "#     'New_Moon_days' : New_Moon_days,\n",
    "#     'Waxing_Crescent_days' : Waxing_Crescent_days,\n",
    "#     'First_Quarter_days' : First_Quarter_days,\n",
    "#     'Waxing_Gibbous_days' : Waxing_Gibbous_days,\n",
    "#     'Full_Moon_days' : Full_Moon_days,\n",
    "#     'Waning_Gibbous_days' : Waning_Gibbous_days,\n",
    "#     'Third_Quarter' : Third_Quarter,\n",
    "#     'Waning_Crescent_days' : Waning_Crescent_days}, index = [0]\n",
    "#     )\n",
    "phase_list"
   ]
  },
  {
   "cell_type": "markdown",
   "id": "6f50f475",
   "metadata": {},
   "source": [
    "## Precipitation Vs. Crime DataFrame"
   ]
  },
  {
   "cell_type": "code",
   "execution_count": 14,
   "id": "014ef98f",
   "metadata": {},
   "outputs": [],
   "source": [
    "# Create bin in which to place values based upon precipitation range\n",
    "# max = 2.0\n",
    "# min = 0\n",
    "\n",
    "rain_bins = [-1, 0.2, 0.4, 0.6, 0.8, 1, 1.2, 1.4, 1.6, 1.8, 2]\n",
    "rain_labels = [\"0 ~ 0.19 in\",\"0.2 ~ 0.39 in\",\"0.4 ~ 0.59 in\",\"0.6 ~ 0.79 in\",\"0.8 ~ 0.99 in\",\"1 ~ 1.19 in\",\n",
    "              \"1.2 - 1.39 in\",\"1.4 ~ 1.59 in\",\"1.6 ~ 1.79 in\",\"1.8 ~ 2 in\"]\n",
    "Merged_DF['Precip_Range'] = pd.cut(Merged_DF['precip'], rain_bins, labels=rain_labels)\n"
   ]
  },
  {
   "cell_type": "code",
   "execution_count": 15,
   "id": "36ea2ee2",
   "metadata": {},
   "outputs": [
    {
     "name": "stdout",
     "output_type": "stream",
     "text": [
      "Precip_Range  crime              \n",
      "0 ~ 0.19 in   AGG ASSAULT            1932\n",
      "              AUTO THEFT             3417\n",
      "              BURGLARY-NONRES         862\n",
      "              BURGLARY-RESIDENCE     3014\n",
      "              HOMICIDE                 94\n",
      "                                     ... \n",
      "1.8 ~ 2 in    LARCENY-NON VEHICLE      66\n",
      "              RAPE                      2\n",
      "              ROBBERY-COMMERCIAL        0\n",
      "              ROBBERY-PEDESTRIAN       14\n",
      "              ROBBERY-RESIDENCE         2\n",
      "Name: crime, Length: 110, dtype: int64\n"
     ]
    }
   ],
   "source": [
    "\n",
    "RainDF = Merged_DF.groupby([\"Precip_Range\",\"crime\"])\n",
    "Crime_Rain_Range = RainDF['crime'].count()\n",
    "print(Crime_Rain_Range)\n"
   ]
  },
  {
   "cell_type": "markdown",
   "id": "4f0dae65",
   "metadata": {},
   "source": [
    "## Neighborhood vs. Crime DataFrame"
   ]
  },
  {
   "cell_type": "code",
   "execution_count": 16,
   "id": "2d05cbec",
   "metadata": {},
   "outputs": [
    {
     "name": "stdout",
     "output_type": "stream",
     "text": [
      "neighborhood     Temp Range\n",
      "Downtown         20F - 30F      11\n",
      "                 31F - 40F      95\n",
      "                 41F - 50F     257\n",
      "                 51F - 60F     283\n",
      "                 61F - 70F     395\n",
      "                 71F - 80F     463\n",
      "                 81F - 90F     342\n",
      "Midtown          20F - 30F      11\n",
      "                 31F - 40F      94\n",
      "                 41F - 50F     183\n",
      "                 51F - 60F     221\n",
      "                 61F - 70F     297\n",
      "                 71F - 80F     300\n",
      "                 81F - 90F     205\n",
      "Old Fourth Ward  20F - 30F       2\n",
      "                 31F - 40F      46\n",
      "                 41F - 50F      99\n",
      "                 51F - 60F     136\n",
      "                 61F - 70F     168\n",
      "                 71F - 80F     202\n",
      "                 81F - 90F     136\n",
      "Vine City        20F - 30F       5\n",
      "                 31F - 40F      32\n",
      "                 41F - 50F      81\n",
      "                 51F - 60F     102\n",
      "                 61F - 70F     120\n",
      "                 71F - 80F     143\n",
      "                 81F - 90F     119\n",
      "West End         20F - 30F       5\n",
      "                 31F - 40F      39\n",
      "                 41F - 50F      68\n",
      "                 51F - 60F     112\n",
      "                 61F - 70F     136\n",
      "                 71F - 80F     185\n",
      "                 81F - 90F     137\n",
      "Name: crime, dtype: int64\n"
     ]
    }
   ],
   "source": [
    "# Downtown                1846\n",
    "# Midtown                 1311\n",
    "# Old Fourth Ward          789\n",
    "# West End                 682\n",
    "# Vine City                602\n",
    "\n",
    "Neighbor_DF = Merged_DF.loc[Merged_DF['neighborhood'].isin(['Downtown','Midtown','Old Fourth Ward','West End','Vine City'])]\n",
    "Cleaned_Neighbor = Neighbor_DF.groupby(['neighborhood', 'Temp Range'])\n",
    "More_Cleaned_Neighbor = Cleaned_Neighbor['crime'].count()\n",
    "print(More_Cleaned_Neighbor)"
   ]
  },
  {
   "cell_type": "markdown",
   "id": "38d3885f",
   "metadata": {},
   "source": [
    "## Plotting Temp vs. Crime ( WHAT PLOT?) "
   ]
  },
  {
   "cell_type": "code",
   "execution_count": 17,
   "id": "7eee8769",
   "metadata": {},
   "outputs": [],
   "source": [
    "# %matplotlib notebook\n",
    "import matplotlib.pyplot as plt\n",
    "import numpy as np\n",
    "import scipy.stats as st\n",
    "from scipy import stats\n",
    "import sklearn.datasets as dta"
   ]
  },
  {
   "cell_type": "code",
   "execution_count": 18,
   "id": "91103bd3",
   "metadata": {},
   "outputs": [
    {
     "data": {
      "image/png": "[encoded data removed]",
      "text/plain": [
       "<Figure size 432x288 with 1 Axes>"
      ]
     },
     "metadata": {
      "needs_background": "light"
     },
     "output_type": "display_data"
    },
    {
     "data": {
      "text/plain": [
       "<Figure size 432x288 with 0 Axes>"
      ]
     },
     "metadata": {},
     "output_type": "display_data"
    }
   ],
   "source": [
    "#Crime_Temp_Range (Original DataFrame)\n",
    "\n",
    "# xAxis = np.arange(len(bins))\n",
    "# tickLocations = []\n",
    "# for x in xAxis:\n",
    "#     tickLocations.append(x)\n",
    "# plt.bar(xAxis, Temp_yaxis, facecolor='b', align ='center')\n",
    "# plt.xticks(tickLocations, bins)\n",
    "# plt.show()\n",
    "\n",
    "Temp_chart = Crime_Temp_Range.plot(kind = 'bar')\n",
    "Temp_chart.set_xlabel('Temperature Range (F)')\n",
    "Temp_chart.set_ylabel('Number of Violent Crime')\n",
    "Temp_chart.set_title('Temperature Range vs. Count of Violent Crime in Atlanta')\n",
    "\n",
    "plt.savefig(\"Temperature Range and Count of Crime.png\",\n",
    "            bbox_inches =\"tight\")\n",
    "plt.show()\n",
    "plt.tight_layout()"
   ]
  },
  {
   "cell_type": "code",
   "execution_count": 24,
   "id": "63d70fff",
   "metadata": {},
   "outputs": [
    {
     "data": {
      "image/png": "[encoded data removed]",
      "text/plain": [
       "<Figure size 432x288 with 1 Axes>"
      ]
     },
     "metadata": {
      "needs_background": "light"
     },
     "output_type": "display_data"
    },
    {
     "name": "stdout",
     "output_type": "stream",
     "text": [
      "R value is 0.09711317319148892.\n"
     ]
    },
    {
     "ename": "NameError",
     "evalue": "name 'rain_array' is not defined",
     "output_type": "error",
     "traceback": [
      "\u001b[0;31m---------------------------------------------------------------------------\u001b[0m",
      "\u001b[0;31mNameError\u001b[0m                                 Traceback (most recent call last)",
      "Input \u001b[0;32mIn [24]\u001b[0m, in \u001b[0;36m<cell line: 23>\u001b[0;34m()\u001b[0m\n\u001b[1;32m     20\u001b[0m plt\u001b[38;5;241m.\u001b[39mshow()\n\u001b[1;32m     22\u001b[0m \u001b[38;5;28mprint\u001b[39m(\u001b[38;5;124mf\u001b[39m\u001b[38;5;124m\"\u001b[39m\u001b[38;5;124mR value is \u001b[39m\u001b[38;5;132;01m{\u001b[39;00mrvalue\u001b[38;5;241m*\u001b[39m\u001b[38;5;241m*\u001b[39m\u001b[38;5;241m2\u001b[39m\u001b[38;5;132;01m}\u001b[39;00m\u001b[38;5;124m.\u001b[39m\u001b[38;5;124m\"\u001b[39m)\n\u001b[0;32m---> 23\u001b[0m \u001b[38;5;28mprint\u001b[39m(\u001b[38;5;124mf\u001b[39m\u001b[38;5;124m\"\u001b[39m\u001b[38;5;124mThe correlation coefficient between precipitation and crime rate is \u001b[39m\u001b[38;5;132;01m{\u001b[39;00m\u001b[38;5;28mround\u001b[39m(st\u001b[38;5;241m.\u001b[39mpearsonr(rain_array, Rain_2)[\u001b[38;5;241m0\u001b[39m],\u001b[38;5;241m2\u001b[39m)\u001b[38;5;132;01m}\u001b[39;00m\u001b[38;5;124m\"\u001b[39m)\n",
      "\u001b[0;31mNameError\u001b[0m: name 'rain_array' is not defined"
     ]
    }
   ],
   "source": [
    "Temp_2 = Merged_DF.groupby(['temp']).count()['crime']\n",
    "\n",
    "\n",
    "xAxis_temperature = Merged_DF['temp'].unique()\n",
    "Output = sorted(xAxis_temperature, key = float)\n",
    "Output_array = np.array(Output, dtype=np.float64)\n",
    "\n",
    "plt.scatter(Output, Temp_2)\n",
    "\n",
    "(slope, intercept, rvalue, pvalue, stderr) = stats.linregress(Output, Temp_2)\n",
    "crime_temp_fit = (slope * Output_array) + intercept\n",
    "line_eq = \"y = \" + str(round(slope,2)) + \"x + \" + str(round(intercept,2))\n",
    "plt.plot(Output, crime_temp_fit, \"r-\")\n",
    "plt.annotate(line_eq,(30, 200),fontsize=15,color=\"red\")\n",
    "plt.xlabel('Temperature')\n",
    "plt.ylabel('Count of Crime')\n",
    "plt.title('Temperature vs. Count of Crime')\n",
    "plt.savefig(\"Temperature Range and Count of Crime (scatter plot).png\",\n",
    "            bbox_inches =\"tight\")\n",
    "plt.show()\n",
    "\n",
    "print(f\"R value is {rvalue**2}.\")\n",
    "print(f\"The correlation coefficient between precipitation and crime rate is {round(st.pearsonr(rain_array, Rain_2)[0],2)}\")\n"
   ]
  },
  {
   "cell_type": "markdown",
   "id": "097c4d31",
   "metadata": {},
   "source": [
    "## Plotting Moonphase vs. Crime "
   ]
  },
  {
   "cell_type": "code",
   "execution_count": null,
   "id": "c2655290",
   "metadata": {},
   "outputs": [],
   "source": [
    "# New_Moon_Phase_Cleaned\n",
    "New_Moon_Phase_Cleaned.head(20)"
   ]
  },
  {
   "cell_type": "code",
   "execution_count": null,
   "id": "209be80c",
   "metadata": {},
   "outputs": [],
   "source": [
    "Moon_Crime_Sum = New_Moon_Phase_Cleaned.sum()\n",
    "xaxis = New_Moon_Phase_Cleaned.columns\n",
    "\n",
    "phase_list\n",
    "phase = 0\n",
    "yaxis = []\n",
    "\n",
    "for x in Moon_Crime_Sum:\n",
    "    yaxis.append(x/phase_list[phase])\n",
    "    phase = phase + 1\n",
    "\n",
    "\n",
    "plt.plot(xaxis, yaxis)\n",
    "plt.xlabel('Different Phase of Moon')\n",
    "plt.xticks(rotation=\"vertical\")\n",
    "plt.ylabel('Percentage of Crime Rate')\n",
    "plt.title('Crime Rate in Atlanta by Moon Phase')\n",
    "plt.savefig(\"MoonPhease.png\",\n",
    "            bbox_inches =\"tight\")\n",
    "plt.show()"
   ]
  },
  {
   "cell_type": "markdown",
   "id": "cc5fd35f",
   "metadata": {},
   "source": [
    "## Precipitation vs. Crime Rate"
   ]
  },
  {
   "cell_type": "code",
   "execution_count": null,
   "id": "52f9c8db",
   "metadata": {},
   "outputs": [],
   "source": [
    "Crime_Rain_Range = Merged_DF.groupby([\"Precip_Range\"]).count()['crime']\n",
    "Rain_chart = Crime_Rain_Range.plot(kind = 'bar')\n",
    "Rain_chart.set_xlabel('Precipitation Range (in)')\n",
    "Rain_chart.set_ylabel('Number of Violent Crime')\n",
    "Rain_chart.set_title('Precipitation range vs. Count of Violent Crime in Atlanta')\n",
    "plt.savefig(\"Precipitation and Crime.png\",\n",
    "            bbox_inches =\"tight\")\n",
    "plt.show()\n",
    "plt.tight_layout()"
   ]
  },
  {
   "cell_type": "code",
   "execution_count": null,
   "id": "a884479e",
   "metadata": {},
   "outputs": [],
   "source": [
    "Removed_Rain = Merged_DF.loc[Merged_DF['precip'] != 0,:]\n",
    "\n",
    "Rain_2 = Removed_Rain.groupby(['precip']).count()['crime']\n",
    "\n",
    "\n",
    "\n",
    "xAxis_rain = Removed_Rain['precip'].unique()\n",
    "output_rain = sorted(xAxis_rain, key = float)\n",
    "rain_array = np.array(output_rain, dtype=np.float64)\n",
    "\n",
    "plt.scatter(rain_array, Rain_2)\n",
    "(slope, intercept, rvalue, pvalue, stderr) = stats.linregress(rain_array, Rain_2)\n",
    "crime_rain_fit = (slope * rain_array) + intercept\n",
    "line_eq = \"y = \" + str(round(slope,2)) + \"x + \" + str(round(intercept,2))\n",
    "plt.plot(rain_array, crime_rain_fit, \"r-\")\n",
    "plt.annotate(line_eq,(1, 250),fontsize=15,color=\"red\")\n",
    "plt.xlabel('Precipitation (in)')\n",
    "plt.ylabel('Count of Crime')\n",
    "plt.title('Precipitation (in) in relation to Number of Crime')\n",
    "plt.savefig(\"Precipitation adn Crime 2.png\",\n",
    "            bbox_inches =\"tight\")\n",
    "plt.show()\n",
    "\n",
    "print(f\"R value is {rvalue**2}.\")\n",
    "print(f\"The correlation coefficient between precipitation and crime rate is {round(st.pearsonr(rain_array, Rain_2)[0],2)}\")"
   ]
  },
  {
   "cell_type": "markdown",
   "id": "3f0f6c69",
   "metadata": {},
   "source": [
    "## Neighborhood vs. Crime Rate (Midtown, Downtown, West End, Old Fourth Ward, Vine City)\n"
   ]
  },
  {
   "cell_type": "code",
   "execution_count": null,
   "id": "48b4813c",
   "metadata": {},
   "outputs": [],
   "source": [
    "# Neighbor_DF = Merged_DF.loc[Merged_DF['neighborhood'].isin(['Downtown','Midtown','Old Fourth Ward','West End','Vine City'])]\n",
    "# Cleaned_Neighbor = Neighbor_DF.groupby(['neighborhood', 'Temp Range'])\n",
    "# More_Cleaned_Neighbor = Cleaned_Neighbor['crime'].count()\n",
    "# print(More_Cleaned_Neighbor)"
   ]
  },
  {
   "cell_type": "code",
   "execution_count": null,
   "id": "61435bd8",
   "metadata": {},
   "outputs": [],
   "source": [
    "# Neighbor_chart = More_Cleaned_Neighbor.plot(kind = \"bar\")\n",
    "# plt.show()"
   ]
  },
  {
   "cell_type": "code",
   "execution_count": null,
   "id": "c3696c94",
   "metadata": {},
   "outputs": [],
   "source": [
    "More_Cleaned_Neighbor.plot.bar(x='temp range', y='count', rot=45, figsize=(15, 10))\n",
    "plt.title(\"Number of Crime by Neighborhood and Temperature\")\n",
    "plt.xlabel(\"Temperature Range (F) by Each Neighborhood\")\n",
    "plt.ylabel(\"Number of Crime\")\n",
    "plt.savefig(\"Neighborhood_Crime.png\",\n",
    "            bbox_inches =\"tight\")"
   ]
  },
  {
   "cell_type": "code",
   "execution_count": null,
   "id": "70b9e878",
   "metadata": {},
   "outputs": [],
   "source": []
  }
 ],
 "metadata": {
  "kernelspec": {
   "display_name": "Python 3 (ipykernel)",
   "language": "python",
   "name": "python3"
  },
  "language_info": {
   "codemirror_mode": {
    "name": "ipython",
    "version": 3
   },
   "file_extension": ".py",
   "mimetype": "text/x-python",
   "name": "python",
   "nbconvert_exporter": "python",
   "pygments_lexer": "ipython3",
   "version": "3.9.12"
  }
 },
 "nbformat": 4,
 "nbformat_minor": 5
}
